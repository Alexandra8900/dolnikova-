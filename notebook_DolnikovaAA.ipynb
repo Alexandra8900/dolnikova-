{
 "cells": [
  {
   "cell_type": "markdown",
   "id": "6aa48518",
   "metadata": {
    "_cell_guid": "b1076dfc-b9ad-4769-8c92-a6c4dae69d19",
    "_uuid": "8f2839f25d086af736a60e9eeb907d3b93b6e0e5",
    "papermill": {
     "duration": 4.231627,
     "end_time": "2022-02-21T21:06:38.945432",
     "exception": false,
     "start_time": "2022-02-21T21:06:34.713805",
     "status": "completed"
    },
    "tags": []
   },
   "source": [
    "# Итоговое Практическое задание. Дольникова А.А."
   ]
  },
  {
   "cell_type": "markdown",
   "id": "dd7fadc0",
   "metadata": {},
   "source": [
    "Дано задание: \"Создать приложение для задачи регрессии (одним или несколькими методами) для предсказания глубины и ширины сварного соединения.\""
   ]
  },
  {
   "cell_type": "markdown",
   "id": "14bd30c0",
   "metadata": {},
   "source": [
    "октябрь 2023"
   ]
  },
  {
   "cell_type": "markdown",
   "id": "733b86e7",
   "metadata": {},
   "source": [
    "### Импорт библиотек"
   ]
  },
  {
   "cell_type": "code",
   "execution_count": 1,
   "id": "f1045074",
   "metadata": {},
   "outputs": [],
   "source": [
    "import pandas as pd\n",
    "import numpy as np\n",
    "import matplotlib.pyplot as plt\n",
    "import seaborn as sns\n",
    "from sklearn.model_selection import train_test_split\n",
    "from sklearn import metrics\n",
    "from sklearn.linear_model import LinearRegression\n",
    "from sklearn.preprocessing import MinMaxScaler, StandardScaler\n",
    "from sklearn.ensemble import RandomForestRegressor, GradientBoostingRegressor  # регрессор ансамбля \"случайного леса\" из регающих деревьев и  градиентного бустинга (Gradient Boosting)\n",
    "from sklearn.tree import DecisionTreeRegressor # регрессор \"деревья решений\"\n",
    "from sklearn.neighbors import KNeighborsRegressor #регрессор \"K -ближайших соседей\"\n",
    "from sklearn.metrics import accuracy_score # для анализа моделей\n",
    "import pickle\n",
    "\n",
    "%matplotlib inline"
   ]
  },
  {
   "cell_type": "markdown",
   "id": "1fe2fd7f",
   "metadata": {},
   "source": [
    "### Подгружаем датасет"
   ]
  },
  {
   "cell_type": "code",
   "execution_count": 2,
   "id": "e98e1d1a",
   "metadata": {
    "papermill": {
     "duration": 0.159696,
     "end_time": "2022-02-21T21:06:39.502298",
     "exception": false,
     "start_time": "2022-02-21T21:06:39.342602",
     "status": "completed"
    },
    "tags": []
   },
   "outputs": [],
   "source": [
    "df = pd.read_csv('data/ebw_data.csv')"
   ]
  },
  {
   "cell_type": "code",
   "execution_count": 3,
   "id": "8bfdb78f",
   "metadata": {},
   "outputs": [],
   "source": [
    "pd.set_option('display.max_columns',100) # чтобы было видно все столбцы датасета\n",
    "pd.set_option('display.max_rows',100) # чтобы было видно все строки датасета"
   ]
  },
  {
   "cell_type": "code",
   "execution_count": 4,
   "id": "aae639ba",
   "metadata": {
    "papermill": {
     "duration": 0.187618,
     "end_time": "2022-02-21T21:06:39.816087",
     "exception": false,
     "start_time": "2022-02-21T21:06:39.628469",
     "status": "completed"
    },
    "tags": []
   },
   "outputs": [
    {
     "data": {
      "text/html": [
       "<div>\n",
       "<style scoped>\n",
       "    .dataframe tbody tr th:only-of-type {\n",
       "        vertical-align: middle;\n",
       "    }\n",
       "\n",
       "    .dataframe tbody tr th {\n",
       "        vertical-align: top;\n",
       "    }\n",
       "\n",
       "    .dataframe thead th {\n",
       "        text-align: right;\n",
       "    }\n",
       "</style>\n",
       "<table border=\"1\" class=\"dataframe\">\n",
       "  <thead>\n",
       "    <tr style=\"text-align: right;\">\n",
       "      <th></th>\n",
       "      <th>IW</th>\n",
       "      <th>IF</th>\n",
       "      <th>VW</th>\n",
       "      <th>FP</th>\n",
       "      <th>Depth</th>\n",
       "      <th>Width</th>\n",
       "    </tr>\n",
       "  </thead>\n",
       "  <tbody>\n",
       "    <tr>\n",
       "      <th>0</th>\n",
       "      <td>47</td>\n",
       "      <td>139</td>\n",
       "      <td>4.5</td>\n",
       "      <td>80</td>\n",
       "      <td>1.60</td>\n",
       "      <td>2.54</td>\n",
       "    </tr>\n",
       "    <tr>\n",
       "      <th>1</th>\n",
       "      <td>47</td>\n",
       "      <td>139</td>\n",
       "      <td>4.5</td>\n",
       "      <td>80</td>\n",
       "      <td>1.62</td>\n",
       "      <td>2.50</td>\n",
       "    </tr>\n",
       "    <tr>\n",
       "      <th>2</th>\n",
       "      <td>47</td>\n",
       "      <td>139</td>\n",
       "      <td>4.5</td>\n",
       "      <td>80</td>\n",
       "      <td>1.68</td>\n",
       "      <td>2.60</td>\n",
       "    </tr>\n",
       "    <tr>\n",
       "      <th>3</th>\n",
       "      <td>47</td>\n",
       "      <td>139</td>\n",
       "      <td>4.5</td>\n",
       "      <td>80</td>\n",
       "      <td>1.58</td>\n",
       "      <td>2.52</td>\n",
       "    </tr>\n",
       "    <tr>\n",
       "      <th>4</th>\n",
       "      <td>45</td>\n",
       "      <td>140</td>\n",
       "      <td>4.5</td>\n",
       "      <td>80</td>\n",
       "      <td>1.76</td>\n",
       "      <td>2.48</td>\n",
       "    </tr>\n",
       "  </tbody>\n",
       "</table>\n",
       "</div>"
      ],
      "text/plain": [
       "   IW   IF   VW  FP  Depth  Width\n",
       "0  47  139  4.5  80   1.60   2.54\n",
       "1  47  139  4.5  80   1.62   2.50\n",
       "2  47  139  4.5  80   1.68   2.60\n",
       "3  47  139  4.5  80   1.58   2.52\n",
       "4  45  140  4.5  80   1.76   2.48"
      ]
     },
     "execution_count": 4,
     "metadata": {},
     "output_type": "execute_result"
    }
   ],
   "source": [
    "df.head() # смотрю первые 5 строк датасета"
   ]
  },
  {
   "cell_type": "code",
   "execution_count": null,
   "id": "9075f677",
   "metadata": {},
   "outputs": [],
   "source": [
    "df #смотрю весь датасет"
   ]
  },
  {
   "cell_type": "markdown",
   "id": "be36d7aa",
   "metadata": {},
   "source": [
    "# Собираем датасет"
   ]
  },
  {
   "cell_type": "code",
   "execution_count": 5,
   "id": "45a38a44",
   "metadata": {
    "papermill": {
     "duration": 0.168349,
     "end_time": "2022-02-21T21:06:57.213943",
     "exception": false,
     "start_time": "2022-02-21T21:06:57.045594",
     "status": "completed"
    },
    "tags": []
   },
   "outputs": [],
   "source": [
    "X = df[['IW', 'IF', 'VW', 'FP']].values # входные параметры\n",
    "y1 = df['Depth'].values\n",
    "y2 = df['Width'].values# выходные параметры"
   ]
  },
  {
   "cell_type": "code",
   "execution_count": 6,
   "id": "2f6b67f9",
   "metadata": {
    "papermill": {
     "duration": 0.167205,
     "end_time": "2022-02-21T21:06:57.538050",
     "exception": false,
     "start_time": "2022-02-21T21:06:57.370845",
     "status": "completed"
    },
    "tags": []
   },
   "outputs": [
    {
     "data": {
      "text/plain": [
       "((72, 4), (72,), (72,))"
      ]
     },
     "execution_count": 6,
     "metadata": {},
     "output_type": "execute_result"
    }
   ],
   "source": [
    "X.shape, y1.shape, y2.shape"
   ]
  },
  {
   "cell_type": "code",
   "execution_count": 7,
   "id": "6f5ce734",
   "metadata": {
    "papermill": {
     "duration": 0.17132,
     "end_time": "2022-02-21T21:06:58.184124",
     "exception": false,
     "start_time": "2022-02-21T21:06:58.012804",
     "status": "completed"
    },
    "tags": []
   },
   "outputs": [],
   "source": [
    "X_train, X_test, y1_train, y1_test = train_test_split(X, y1, test_size=0.3, random_state=0)"
   ]
  },
  {
   "cell_type": "code",
   "execution_count": 8,
   "id": "30a634bb",
   "metadata": {},
   "outputs": [],
   "source": [
    "X_train, X_test, y2_train, y2_test = train_test_split(X, y2, test_size=0.3, random_state=0)"
   ]
  },
  {
   "cell_type": "code",
   "execution_count": 9,
   "id": "c6d79279",
   "metadata": {},
   "outputs": [
    {
     "data": {
      "text/plain": [
       "(50, 4)"
      ]
     },
     "execution_count": 9,
     "metadata": {},
     "output_type": "execute_result"
    }
   ],
   "source": [
    "X_train.shape"
   ]
  },
  {
   "cell_type": "markdown",
   "id": "cd6541d2",
   "metadata": {},
   "source": [
    "# Метод градиетного бустинга"
   ]
  },
  {
   "cell_type": "code",
   "execution_count": 10,
   "id": "cfa31b9c",
   "metadata": {},
   "outputs": [],
   "source": [
    "model_gbr1 = GradientBoostingRegressor()\n",
    "model_gbr1_params={\n",
    "    'n_estimators':[100,500],\n",
    "    'learning_rate': [0.1,0.05,0.02],\n",
    "    'max_depth':[4],\n",
    "    'min_samples_leaf':[3],\n",
    "    'max_features':[1.0]\n",
    "    } "
   ]
  },
  {
   "cell_type": "code",
   "execution_count": 11,
   "id": "dc658a90",
   "metadata": {},
   "outputs": [
    {
     "name": "stdout",
     "output_type": "stream",
     "text": [
      "[0.96073507 0.96073507 1.22096383 1.09441328 1.56804873]\n",
      "[0.92 0.94 1.28 1.2  1.4 ]\n"
     ]
    }
   ],
   "source": [
    "# обучение с параметрами по умолчанию\n",
    "model_gbr1.fit(X_train, y1_train)\n",
    "y1_gbr1 = model_gbr1.predict(X_test)\n",
    "# выведем первые пять значений с помощью диапазона индексов\n",
    "print(y1_gbr1[:5])\n",
    "print(y1_test[:5])"
   ]
  },
  {
   "cell_type": "code",
   "execution_count": 12,
   "id": "c837e7c4",
   "metadata": {},
   "outputs": [],
   "source": [
    "model_gbr2 = GradientBoostingRegressor()\n",
    "model_gbr2_params={\n",
    "    'n_estimators':[100,500],\n",
    "    'learning_rate': [0.1,0.05,0.02],\n",
    "    'max_depth':[4],\n",
    "    'min_samples_leaf':[3],\n",
    "    'max_features':[1.0]\n",
    "    } "
   ]
  },
  {
   "cell_type": "code",
   "execution_count": 13,
   "id": "ad8df4b7",
   "metadata": {},
   "outputs": [
    {
     "name": "stdout",
     "output_type": "stream",
     "text": [
      "[1.96996367 1.96996367 1.79607566 1.70278916 2.52788631]\n",
      "[1.86 1.94 1.8  1.8  2.48]\n"
     ]
    }
   ],
   "source": [
    "# обучение с параметрами по умолчанию\n",
    "model_gbr2.fit(X_train, y2_train)\n",
    "y2_gbr2 = model_gbr2.predict(X_test)\n",
    "# выведем первые пять значений с помощью диапазона индексов\n",
    "print(y2_gbr2[:5])\n",
    "print(y2_test[:5])"
   ]
  },
  {
   "cell_type": "code",
   "execution_count": 14,
   "id": "92c8ea3f",
   "metadata": {},
   "outputs": [
    {
     "data": {
      "text/plain": [
       "array([0.96073507, 0.96073507, 1.22096383, 1.09441328, 1.56804873,\n",
       "       1.22096383, 1.67808231, 1.22096383, 0.82126482, 1.31499551,\n",
       "       1.22096383, 1.56804873, 1.56804873, 1.16918738, 0.82126482,\n",
       "       1.08105582, 1.31499551, 1.22514112, 1.16918738, 1.67808231,\n",
       "       1.22096383, 1.22096383])"
      ]
     },
     "execution_count": 14,
     "metadata": {},
     "output_type": "execute_result"
    }
   ],
   "source": [
    "y1_gbr1"
   ]
  },
  {
   "cell_type": "code",
   "execution_count": 15,
   "id": "c91f0b0b",
   "metadata": {},
   "outputs": [
    {
     "data": {
      "text/plain": [
       "array([1.96996367, 1.96996367, 1.79607566, 1.70278916, 2.52788631,\n",
       "       1.79607566, 2.49891438, 1.79607566, 2.0992761 , 1.76271961,\n",
       "       1.79607566, 2.52788631, 2.52788631, 1.79363584, 2.0992761 ,\n",
       "       1.81267002, 1.76271961, 1.78082856, 1.79363584, 2.49891438,\n",
       "       1.79607566, 1.79607566])"
      ]
     },
     "execution_count": 15,
     "metadata": {},
     "output_type": "execute_result"
    }
   ],
   "source": [
    "y2_gbr2"
   ]
  },
  {
   "cell_type": "markdown",
   "id": "312e3380",
   "metadata": {},
   "source": [
    "# Сохраняю модель"
   ]
  },
  {
   "cell_type": "code",
   "execution_count": 16,
   "id": "f752a560",
   "metadata": {},
   "outputs": [],
   "source": [
    "pickle.dump(model_gbr1, open('model_gbr1.pkl', 'wb'))"
   ]
  },
  {
   "cell_type": "code",
   "execution_count": 17,
   "id": "c25431f2",
   "metadata": {},
   "outputs": [],
   "source": [
    "pickle.dump(model_gbr2, open('model_gbr2.pkl', 'wb'))"
   ]
  },
  {
   "cell_type": "code",
   "execution_count": 18,
   "id": "cbc19eed",
   "metadata": {},
   "outputs": [],
   "source": [
    "model1_load=pickle.load (open('model_gbr1.pkl', 'rb'))"
   ]
  },
  {
   "cell_type": "code",
   "execution_count": 19,
   "id": "6f5ddcd4",
   "metadata": {},
   "outputs": [],
   "source": [
    "model2_load=pickle.load (open('model_gbr2.pkl', 'rb'))"
   ]
  },
  {
   "cell_type": "code",
   "execution_count": 20,
   "id": "e34c21ae",
   "metadata": {},
   "outputs": [
    {
     "data": {
      "text/plain": [
       "array([1.96996367, 1.96996367, 1.79607566, 1.70278916, 2.52788631,\n",
       "       1.79607566, 2.49891438, 1.79607566, 2.0992761 , 1.76271961,\n",
       "       1.79607566, 2.52788631, 2.52788631, 1.79363584, 2.0992761 ,\n",
       "       1.81267002, 1.76271961, 1.78082856, 1.79363584, 2.49891438,\n",
       "       1.79607566, 1.79607566])"
      ]
     },
     "execution_count": 20,
     "metadata": {},
     "output_type": "execute_result"
    }
   ],
   "source": [
    "model2_load.predict(X_test)"
   ]
  },
  {
   "cell_type": "code",
   "execution_count": 21,
   "id": "167cc478",
   "metadata": {},
   "outputs": [
    {
     "data": {
      "text/plain": [
       "array([0.96073507, 0.96073507, 1.22096383, 1.09441328, 1.56804873,\n",
       "       1.22096383, 1.67808231, 1.22096383, 0.82126482, 1.31499551,\n",
       "       1.22096383, 1.56804873, 1.56804873, 1.16918738, 0.82126482,\n",
       "       1.08105582, 1.31499551, 1.22514112, 1.16918738, 1.67808231,\n",
       "       1.22096383, 1.22096383])"
      ]
     },
     "execution_count": 21,
     "metadata": {},
     "output_type": "execute_result"
    }
   ],
   "source": [
    "model1_load.predict(X_test)"
   ]
  },
  {
   "cell_type": "markdown",
   "id": "f61b5cf4",
   "metadata": {},
   "source": [
    "# Дальнейшая работа ведется в Visual Studio Code"
   ]
  },
  {
   "cell_type": "code",
   "execution_count": null,
   "id": "dde4d5db",
   "metadata": {},
   "outputs": [],
   "source": []
  }
 ],
 "metadata": {
  "kernelspec": {
   "display_name": "Python 3 (ipykernel)",
   "language": "python",
   "name": "python3"
  },
  "language_info": {
   "codemirror_mode": {
    "name": "ipython",
    "version": 3
   },
   "file_extension": ".py",
   "mimetype": "text/x-python",
   "name": "python",
   "nbconvert_exporter": "python",
   "pygments_lexer": "ipython3",
   "version": "3.10.13"
  },
  "papermill": {
   "default_parameters": {},
   "duration": 54.07883,
   "end_time": "2022-02-21T21:07:09.325586",
   "environment_variables": {},
   "exception": null,
   "input_path": "__notebook__.ipynb",
   "output_path": "__notebook__.ipynb",
   "parameters": {},
   "start_time": "2022-02-21T21:06:15.246756",
   "version": "2.3.3"
  }
 },
 "nbformat": 4,
 "nbformat_minor": 5
}
